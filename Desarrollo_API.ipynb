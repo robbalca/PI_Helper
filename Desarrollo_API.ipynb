{
 "cells": [
  {
   "cell_type": "code",
   "execution_count": null,
   "metadata": {},
   "outputs": [],
   "source": [
    "# DESARROLLO DE CODIGO DE LA API\n",
    "# para despues pasarla al main.py para uso de la API"
   ]
  },
  {
   "cell_type": "code",
   "execution_count": 1,
   "metadata": {},
   "outputs": [],
   "source": [
    "import pandas as pd\n",
    "import numpy as np\n",
    "import matplotlib.pyplot as plt\n",
    "import seaborn as sns\n",
    "import datetime\n",
    "import ast"
   ]
  },
  {
   "cell_type": "code",
   "execution_count": 2,
   "metadata": {},
   "outputs": [],
   "source": [
    "d1 = pd.read_csv('d_limpio.csv')"
   ]
  },
  {
   "cell_type": "code",
   "execution_count": 3,
   "metadata": {},
   "outputs": [
    {
     "data": {
      "text/plain": [
       "belongs_to_collection     object\n",
       "budget                   float64\n",
       "genres                    object\n",
       "id                         int64\n",
       "original_language         object\n",
       "overview                  object\n",
       "popularity               float64\n",
       "production_companies      object\n",
       "production_countries      object\n",
       "release_date              object\n",
       "revenue                  float64\n",
       "runtime                  float64\n",
       "spoken_languages          object\n",
       "status                    object\n",
       "tagline                   object\n",
       "title                     object\n",
       "vote_average             float64\n",
       "release_year               int64\n",
       "return                   float64\n",
       "dtype: object"
      ]
     },
     "execution_count": 3,
     "metadata": {},
     "output_type": "execute_result"
    }
   ],
   "source": [
    "d1.dtypes"
   ]
  },
  {
   "cell_type": "code",
   "execution_count": 4,
   "metadata": {},
   "outputs": [
    {
     "data": {
      "text/html": [
       "<div>\n",
       "<style scoped>\n",
       "    .dataframe tbody tr th:only-of-type {\n",
       "        vertical-align: middle;\n",
       "    }\n",
       "\n",
       "    .dataframe tbody tr th {\n",
       "        vertical-align: top;\n",
       "    }\n",
       "\n",
       "    .dataframe thead th {\n",
       "        text-align: right;\n",
       "    }\n",
       "</style>\n",
       "<table border=\"1\" class=\"dataframe\">\n",
       "  <thead>\n",
       "    <tr style=\"text-align: right;\">\n",
       "      <th></th>\n",
       "      <th>belongs_to_collection</th>\n",
       "      <th>budget</th>\n",
       "      <th>genres</th>\n",
       "      <th>id</th>\n",
       "      <th>original_language</th>\n",
       "      <th>overview</th>\n",
       "      <th>popularity</th>\n",
       "      <th>production_companies</th>\n",
       "      <th>production_countries</th>\n",
       "      <th>release_date</th>\n",
       "      <th>revenue</th>\n",
       "      <th>runtime</th>\n",
       "      <th>spoken_languages</th>\n",
       "      <th>status</th>\n",
       "      <th>tagline</th>\n",
       "      <th>title</th>\n",
       "      <th>vote_average</th>\n",
       "      <th>release_year</th>\n",
       "      <th>return</th>\n",
       "    </tr>\n",
       "  </thead>\n",
       "  <tbody>\n",
       "    <tr>\n",
       "      <th>0</th>\n",
       "      <td>Toy Story Collection</td>\n",
       "      <td>30000000.0</td>\n",
       "      <td>['Animation', 'Comedy', 'Family']</td>\n",
       "      <td>862</td>\n",
       "      <td>en</td>\n",
       "      <td>Led by Woody, Andy's toys live happily in his ...</td>\n",
       "      <td>21.946943</td>\n",
       "      <td>['Pixar Animation Studios']</td>\n",
       "      <td>['United States of America']</td>\n",
       "      <td>1995-10-30</td>\n",
       "      <td>373554033.0</td>\n",
       "      <td>81.0</td>\n",
       "      <td>['English']</td>\n",
       "      <td>Released</td>\n",
       "      <td>NaN</td>\n",
       "      <td>Toy Story</td>\n",
       "      <td>7.7</td>\n",
       "      <td>1995</td>\n",
       "      <td>12.451801</td>\n",
       "    </tr>\n",
       "    <tr>\n",
       "      <th>1</th>\n",
       "      <td>NaN</td>\n",
       "      <td>65000000.0</td>\n",
       "      <td>['Adventure', 'Fantasy', 'Family']</td>\n",
       "      <td>8844</td>\n",
       "      <td>en</td>\n",
       "      <td>When siblings Judy and Peter discover an encha...</td>\n",
       "      <td>17.015539</td>\n",
       "      <td>['TriStar Pictures', 'Teitler Film', 'Intersco...</td>\n",
       "      <td>['United States of America']</td>\n",
       "      <td>1995-12-15</td>\n",
       "      <td>262797249.0</td>\n",
       "      <td>104.0</td>\n",
       "      <td>['English', 'Français']</td>\n",
       "      <td>Released</td>\n",
       "      <td>Roll the dice and unleash the excitement!</td>\n",
       "      <td>Jumanji</td>\n",
       "      <td>6.9</td>\n",
       "      <td>1995</td>\n",
       "      <td>4.043035</td>\n",
       "    </tr>\n",
       "    <tr>\n",
       "      <th>2</th>\n",
       "      <td>Grumpy Old Men Collection</td>\n",
       "      <td>0.0</td>\n",
       "      <td>['Romance', 'Comedy']</td>\n",
       "      <td>15602</td>\n",
       "      <td>en</td>\n",
       "      <td>A family wedding reignites the ancient feud be...</td>\n",
       "      <td>11.712900</td>\n",
       "      <td>['Warner Bros.', 'Lancaster Gate']</td>\n",
       "      <td>['United States of America']</td>\n",
       "      <td>1995-12-22</td>\n",
       "      <td>0.0</td>\n",
       "      <td>101.0</td>\n",
       "      <td>['English']</td>\n",
       "      <td>Released</td>\n",
       "      <td>Still Yelling. Still Fighting. Still Ready for...</td>\n",
       "      <td>Grumpier Old Men</td>\n",
       "      <td>6.5</td>\n",
       "      <td>1995</td>\n",
       "      <td>0.000000</td>\n",
       "    </tr>\n",
       "    <tr>\n",
       "      <th>3</th>\n",
       "      <td>NaN</td>\n",
       "      <td>16000000.0</td>\n",
       "      <td>['Comedy', 'Drama', 'Romance']</td>\n",
       "      <td>31357</td>\n",
       "      <td>en</td>\n",
       "      <td>Cheated on, mistreated and stepped on, the wom...</td>\n",
       "      <td>3.859495</td>\n",
       "      <td>['Twentieth Century Fox Film Corporation']</td>\n",
       "      <td>['United States of America']</td>\n",
       "      <td>1995-12-22</td>\n",
       "      <td>81452156.0</td>\n",
       "      <td>127.0</td>\n",
       "      <td>['English']</td>\n",
       "      <td>Released</td>\n",
       "      <td>Friends are the people who let you be yourself...</td>\n",
       "      <td>Waiting to Exhale</td>\n",
       "      <td>6.1</td>\n",
       "      <td>1995</td>\n",
       "      <td>5.090760</td>\n",
       "    </tr>\n",
       "  </tbody>\n",
       "</table>\n",
       "</div>"
      ],
      "text/plain": [
       "       belongs_to_collection      budget                              genres  \\\n",
       "0       Toy Story Collection  30000000.0   ['Animation', 'Comedy', 'Family']   \n",
       "1                        NaN  65000000.0  ['Adventure', 'Fantasy', 'Family']   \n",
       "2  Grumpy Old Men Collection         0.0               ['Romance', 'Comedy']   \n",
       "3                        NaN  16000000.0      ['Comedy', 'Drama', 'Romance']   \n",
       "\n",
       "      id original_language                                           overview  \\\n",
       "0    862                en  Led by Woody, Andy's toys live happily in his ...   \n",
       "1   8844                en  When siblings Judy and Peter discover an encha...   \n",
       "2  15602                en  A family wedding reignites the ancient feud be...   \n",
       "3  31357                en  Cheated on, mistreated and stepped on, the wom...   \n",
       "\n",
       "   popularity                               production_companies  \\\n",
       "0   21.946943                        ['Pixar Animation Studios']   \n",
       "1   17.015539  ['TriStar Pictures', 'Teitler Film', 'Intersco...   \n",
       "2   11.712900                 ['Warner Bros.', 'Lancaster Gate']   \n",
       "3    3.859495         ['Twentieth Century Fox Film Corporation']   \n",
       "\n",
       "           production_countries release_date      revenue  runtime  \\\n",
       "0  ['United States of America']   1995-10-30  373554033.0     81.0   \n",
       "1  ['United States of America']   1995-12-15  262797249.0    104.0   \n",
       "2  ['United States of America']   1995-12-22          0.0    101.0   \n",
       "3  ['United States of America']   1995-12-22   81452156.0    127.0   \n",
       "\n",
       "          spoken_languages    status  \\\n",
       "0              ['English']  Released   \n",
       "1  ['English', 'Français']  Released   \n",
       "2              ['English']  Released   \n",
       "3              ['English']  Released   \n",
       "\n",
       "                                             tagline              title  \\\n",
       "0                                                NaN          Toy Story   \n",
       "1          Roll the dice and unleash the excitement!            Jumanji   \n",
       "2  Still Yelling. Still Fighting. Still Ready for...   Grumpier Old Men   \n",
       "3  Friends are the people who let you be yourself...  Waiting to Exhale   \n",
       "\n",
       "   vote_average  release_year     return  \n",
       "0           7.7          1995  12.451801  \n",
       "1           6.9          1995   4.043035  \n",
       "2           6.5          1995   0.000000  \n",
       "3           6.1          1995   5.090760  "
      ]
     },
     "execution_count": 4,
     "metadata": {},
     "output_type": "execute_result"
    }
   ],
   "source": [
    "d1.head(4)"
   ]
  },
  {
   "cell_type": "code",
   "execution_count": null,
   "metadata": {},
   "outputs": [],
   "source": [
    "# API 1\n",
    "# Cantidad de peliculas producidas por un determinado pais en determinado año, la funcion debe llamarse\n",
    "# get_country(year, country)y debe devolver solo el numero de peliculas producidas por el pais en dicho año. "
   ]
  },
  {
   "cell_type": "code",
   "execution_count": 7,
   "metadata": {},
   "outputs": [],
   "source": [
    "def peliculas_mes(mes):\n",
    "    fechas = pd.to_datetime(d1['release_date'], format= '%Y-%m-%d')\n",
    "    n_mes= fechas[fechas.dt.month_name(locale = 'es')==mes.capitalize()]\n",
    "    respuesta = n_mes.shape[0]\n",
    "    return {'mes':mes, 'cantidad':respuesta}"
   ]
  },
  {
   "cell_type": "code",
   "execution_count": 8,
   "metadata": {},
   "outputs": [
    {
     "data": {
      "text/plain": [
       "{'mes': 'marzo', 'cantidad': 3553}"
      ]
     },
     "execution_count": 8,
     "metadata": {},
     "output_type": "execute_result"
    }
   ],
   "source": [
    "peliculas_mes('marzo')"
   ]
  },
  {
   "cell_type": "code",
   "execution_count": null,
   "metadata": {},
   "outputs": [],
   "source": [
    "# API 2\n",
    "# Recaudacion por productora y por año, la funcion debe llamarse get_company_revenue(company, year) y debe \n",
    "# devolver un int, con el total de dolares recaudados ese año por esa productora."
   ]
  },
  {
   "cell_type": "code",
   "execution_count": 9,
   "metadata": {},
   "outputs": [],
   "source": [
    "def peliculas_dia(dia):\n",
    "    fechas = pd.to_datetime(d1['release_date'], format= '%Y-%m-%d')\n",
    "    n_dia= fechas[fechas.dt.day_name(locale = 'es')==dia.capitalize()]\n",
    "    respuesta = n_dia.shape[0]\n",
    "    return {'dia':dia, 'cantidad':respuesta}"
   ]
  },
  {
   "cell_type": "code",
   "execution_count": 10,
   "metadata": {},
   "outputs": [
    {
     "data": {
      "text/plain": [
       "{'dia': 'lunes', 'cantidad': 3503}"
      ]
     },
     "execution_count": 10,
     "metadata": {},
     "output_type": "execute_result"
    }
   ],
   "source": [
    "peliculas_dia('lunes')"
   ]
  },
  {
   "cell_type": "code",
   "execution_count": null,
   "metadata": {},
   "outputs": [],
   "source": [
    "# API 3\n",
    "# Cantidad de peliculas que salieron en determinado año la funcion debe llamarse get_count_movies(year) y debe\n",
    "# devolver un int con el numero total de peliculas que salieron ese año."
   ]
  },
  {
   "cell_type": "code",
   "execution_count": 11,
   "metadata": {},
   "outputs": [],
   "source": [
    "def franquicia(franquicia):\n",
    "    f_bajo= franquicia.lower()\n",
    "    fran= d1[['belongs_to_collection','budget','revenue']].dropna(subset=['belongs_to_collection'])\n",
    "    fran= fran[fran['belongs_to_collection'].map(str.lower).apply(lambda x: f_bajo in x)]\n",
    "    cantidad = fran.shape[0]\n",
    "    gananciat= (fran['revenue']- fran['budget']).sum()\n",
    "    gananciap= (fran['revenue']- fran['budget']).mean()\n",
    "    return {'franquicia': franquicia, 'cantidad': cantidad, 'ganancia_total':gananciat, 'ganancia_promedio': gananciap}"
   ]
  },
  {
   "cell_type": "code",
   "execution_count": 12,
   "metadata": {},
   "outputs": [
    {
     "data": {
      "text/plain": [
       "{'franquicia': 'Toy Story Collection',\n",
       " 'cantidad': 3,\n",
       " 'ganancia_total': 1617890605.0,\n",
       " 'ganancia_promedio': 539296868.3333334}"
      ]
     },
     "execution_count": 12,
     "metadata": {},
     "output_type": "execute_result"
    }
   ],
   "source": [
    "franquicia('Toy Story Collection')"
   ]
  },
  {
   "cell_type": "code",
   "execution_count": null,
   "metadata": {},
   "outputs": [],
   "source": [
    "# API 4\n",
    "# Pelicula de mayor retorno en determinado año. La funcion debe llamarse get_return(title, year) y debe devolver solo el \n",
    "# string con el string con el nombre de la pelicula con mayor retorno de inversion en ese año."
   ]
  },
  {
   "cell_type": "code",
   "execution_count": 13,
   "metadata": {},
   "outputs": [],
   "source": [
    "def peliculas_pais(pais: str) -> dict:\n",
    "    if isinstance(pais, str):\n",
    "        p_bajo = pais.lower()\n",
    "        cantidad = d1['production_countries'].apply(lambda x: str(x).lower()).map(str.lower).apply(lambda x: p_bajo in x).sum()\n",
    "        return {'pais': pais, 'cantidad': cantidad}"
   ]
  },
  {
   "cell_type": "code",
   "execution_count": 14,
   "metadata": {},
   "outputs": [
    {
     "data": {
      "text/plain": [
       "{'pais': 'United States of America', 'cantidad': 21147}"
      ]
     },
     "execution_count": 14,
     "metadata": {},
     "output_type": "execute_result"
    }
   ],
   "source": [
    "peliculas_pais ('United States of America')"
   ]
  },
  {
   "cell_type": "code",
   "execution_count": null,
   "metadata": {},
   "outputs": [],
   "source": [
    "# API 5\n",
    "# pelicula con el menor presupuesto en determinado año. La funcion debe llamarse get_min_budget(year) deberia devolver\n",
    "# el string con el nombre de la pelicula, el año de estreno y el presupuesto, en un diccionario con las llaves llamadas\n",
    "# 'Title', 'year', 'budget' y cada una con su valor correspondiente."
   ]
  },
  {
   "cell_type": "code",
   "execution_count": null,
   "metadata": {},
   "outputs": [],
   "source": [
    "def productoras(productora):\n",
    "    prod = d1[['production_companies','budget', 'revenue']].dropna()\n",
    "    prod['production_companies'] = prod['production_companies'].map(str.lower)\n",
    "    cantidad = prod.shape[0]\n",
    "    gtotal= (prod['revenue'] - prod['budget']).sum()\n",
    "    return {'productora':productora, 'ganancia_total': gtotal, 'cantidad': cantidad }"
   ]
  },
  {
   "cell_type": "code",
   "execution_count": null,
   "metadata": {},
   "outputs": [],
   "source": [
    "productoras('Warner Bros.')"
   ]
  },
  {
   "cell_type": "code",
   "execution_count": null,
   "metadata": {},
   "outputs": [],
   "source": [
    "# API 6\n",
    "# Lista de las 5 franquicias, colecciones o series de peliculas que mas recaudaron historicamente. La funcion se llamara\n",
    "# get_collection_revenue() y deberia devolver una lista de longitud 5 que contenga el nombre en string de las 5\n",
    "# franquicias que mas recaudaran historicamente."
   ]
  },
  {
   "cell_type": "code",
   "execution_count": 18,
   "metadata": {},
   "outputs": [],
   "source": [
    "def retorno(pelicula: str) -> dict:\n",
    "    pelicula_df = d1.loc[d1['title'] == pelicula.title()]\n",
    "    inversion = pelicula_df['budget'].iloc[0].item()\n",
    "    ganancia = pelicula_df['revenue'].iloc[0].item()\n",
    "    retorno= pelicula_df['return'].iloc[0].item()\n",
    "    anio = pelicula_df['release_year'].iloc[0].item()\n",
    "    return {'pelicula': pelicula, 'inversion': inversion, 'ganancia': ganancia, 'retorno': retorno, 'anio': anio }"
   ]
  },
  {
   "cell_type": "code",
   "execution_count": 19,
   "metadata": {},
   "outputs": [
    {
     "data": {
      "text/plain": [
       "{'pelicula': 'toy story',\n",
       " 'inversion': 30000000.0,\n",
       " 'ganancia': 373554033.0,\n",
       " 'retorno': 12.4518011,\n",
       " 'anio': 1995}"
      ]
     },
     "execution_count": 19,
     "metadata": {},
     "output_type": "execute_result"
    }
   ],
   "source": [
    "retorno('toy story')"
   ]
  }
 ],
 "metadata": {
  "kernelspec": {
   "display_name": "Python 3",
   "language": "python",
   "name": "python3"
  },
  "language_info": {
   "codemirror_mode": {
    "name": "ipython",
    "version": 3
   },
   "file_extension": ".py",
   "mimetype": "text/x-python",
   "name": "python",
   "nbconvert_exporter": "python",
   "pygments_lexer": "ipython3",
   "version": "3.10.8"
  },
  "orig_nbformat": 4
 },
 "nbformat": 4,
 "nbformat_minor": 2
}
